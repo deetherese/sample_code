{
 "cells": [
  {
   "cell_type": "code",
   "execution_count": 79,
   "id": "a056a1db-588c-4789-bebf-8e516ae9ffe2",
   "metadata": {},
   "outputs": [],
   "source": [
    "summary_models = []"
   ]
  },
  {
   "cell_type": "code",
   "execution_count": 80,
   "id": "15584de5-e4b6-49c4-9f6e-7fc9a393a782",
   "metadata": {},
   "outputs": [],
   "source": [
    "# from IPython.core.interactiveshell import InteractiveShell\n",
    "# InteractiveShell.ast_node_interactivity = \"all\"\n",
    "import warnings\n",
    "warnings.filterwarnings('ignore')"
   ]
  },
  {
   "cell_type": "code",
   "execution_count": 81,
   "id": "cfe06a69-029e-4f4a-b027-a001dcc1ccbf",
   "metadata": {},
   "outputs": [],
   "source": [
    "import pandas as pd\n",
    "import numpy as np\n",
    "import matplotlib.pyplot as plt\n",
    "from sklearn.linear_model import LogisticRegression\n",
    "from sklearn.model_selection import train_test_split\n",
    "from sklearn.metrics import f1_score\n",
    "from sklearn.ensemble import RandomForestClassifier\n",
    "\n",
    "df_path = 'data/checkpoint_2_table.csv'\n",
    "\n",
    "df = pd.read_csv(df_path)\n",
    "\n",
    "df.loc[:, 'meaneduc'] = df.loc[:, 'meaneduc'].fillna(0)"
   ]
  },
  {
   "cell_type": "code",
   "execution_count": 82,
   "id": "adc81087-2eb8-4544-a5a0-595248d10c43",
   "metadata": {},
   "outputs": [],
   "source": [
    "# Fix 'yes' and 'no' in variables\n",
    "need_improve = ['edjefe', 'edjefa', 'dependency']\n",
    "for col in need_improve:\n",
    " df.loc[df.loc[:, col] == \"no\", col] = '0'\n",
    " df.loc[df.loc[:, col] == \"yes\", col] = '1'\n",
    " if col == 'dependency':\n",
    "     df.loc[:, col] = df.loc[:, col].astype(float)\n",
    " df.loc[:, col] = df.loc[:, col].astype(int)"
   ]
  },
  {
   "cell_type": "code",
   "execution_count": 83,
   "id": "cd639a9f-f33b-4201-a62c-e68dd380915d",
   "metadata": {},
   "outputs": [
    {
     "data": {
      "text/plain": [
       "64"
      ]
     },
     "execution_count": 83,
     "metadata": {},
     "output_type": "execute_result"
    }
   ],
   "source": [
    "selected_vars = ['edjefe', 'edjefa', 'meaneduc', 'dependency', 'epared2', 'epared3',\n",
    "            'etecho2', 'etecho3', 'eviv2', 'eviv3', 'hhsize', 'hacapo', 'v14a', \n",
    "            'refrig', 'v18q', 'hacdor', 'area1', 'computer', 'television', \n",
    "            'mobilephone', 'lugar2', 'lugar3', 'lugar4', 'lugar5', 'lugar6', 'wall_quality', \n",
    "            'ceiling_quality', 'floor_quality', 'lack_basic_needs', \n",
    "            'phones-per-capita', 'rooms-per-capita', 'electricity_quality', \n",
    "            'resid_management', 'Toilet_quality', 'cooking_energy', \n",
    "            'electronics_idx', 'central_urban', 'choro_pc_rural', \n",
    "            'choro_pc_urban', 'choro_pc_povre', 'adul_hhsize', 'total_hhsize', \n",
    "            'dis_count', 'male_count', 'female_count', 'age_less10_count', \n",
    "            'free_or_coupled_count', 'married_count', 'divorced_count', \n",
    "            'separated_count', 'widow_count', 'single_count', 'partner_count', \n",
    "            'child_count', 'step_child_count', 'child_inlaw_count', \n",
    "            'grandson_daughter_count', 'parent_count', 'parent_inlaw_count', \n",
    "            'sibling_count', 'brosis_inlaw_count', 'otherfam_count', 'nonfam_count', 'Target']\n",
    "len(selected_vars) "
   ]
  },
  {
   "cell_type": "code",
   "execution_count": 84,
   "id": "c0d9fec7-0d8f-443c-8c69-5ad2421ec989",
   "metadata": {},
   "outputs": [],
   "source": [
    "from sklearn.preprocessing import MinMaxScaler\n",
    "from imblearn.over_sampling import RandomOverSampler\n",
    "\n",
    "scaler = MinMaxScaler()\n",
    "X = scaler.fit_transform(df.loc[:, selected_vars[0:63]])\n",
    "y = df.loc[:, 'Target']\n",
    "\n",
    "\n",
    "X_train, X_test_normalized, y_train_, y_test = train_test_split(X, y, test_size=0.2, \n",
    "                                                    random_state=2938)\n",
    "\n",
    "\n",
    "over_sampler = RandomOverSampler(random_state=42)\n",
    "X_train_normalized, y_train = over_sampler.fit_resample(X_train, y_train_)"
   ]
  },
  {
   "cell_type": "markdown",
   "id": "29acd353-e6f8-4a2b-b14d-7683deefcde8",
   "metadata": {},
   "source": [
    "# ALL FEATURES"
   ]
  },
  {
   "cell_type": "markdown",
   "id": "1641c1dc-14fe-4694-8e23-bd9473dfba51",
   "metadata": {},
   "source": [
    "### KNN Classification"
   ]
  },
  {
   "cell_type": "code",
   "execution_count": 85,
   "id": "68d309b5-fd91-42dc-9b0c-8a5ccdac6eb1",
   "metadata": {},
   "outputs": [],
   "source": [
    "from sklearn.neighbors import KNeighborsClassifier\n",
    "from sklearn.model_selection import train_test_split\n",
    "from sklearn.metrics import accuracy_score, precision_score, recall_score, f1_score\n",
    "\n",
    "\n",
    "# Train the KNN classifier\n",
    "k =9\n",
    "clf = KNeighborsClassifier(n_neighbors=k, metric='manhattan')\n",
    "clf.fit(X_train_normalized, y_train)\n",
    "\n",
    "# Test the KNN classifier\n",
    "y_pred = clf.predict(X_test_normalized)\n",
    "\n",
    "# Evaluate the performance of the model\n",
    "train_acc1 = clf.score(X_train_normalized, y_train)\n",
    "test_acc1 = f1_score(y_test, y_pred, average='macro')\n",
    "train_acc1\n",
    "test_acc1\n",
    "summary_models.append({\"Feature Type Approach\" : \"All\", \"Model\" : \"KNN\", \"Train Accuracy\": train_acc1 , \"Test Accuracy\": test_acc1})"
   ]
  },
  {
   "cell_type": "markdown",
   "id": "43d54530-0c2a-486b-94ce-375bc771b440",
   "metadata": {},
   "source": [
    "### Random Forest Classification"
   ]
  },
  {
   "cell_type": "code",
   "execution_count": 86,
   "id": "eedae638-feaf-41b6-a364-adaba90b5f3f",
   "metadata": {},
   "outputs": [],
   "source": [
    "forest1 = RandomForestClassifier(n_estimators = 4, criterion = 'gini',\n",
    "                                max_depth = 4, min_samples_split = 3, \n",
    "                                min_samples_leaf = 1, max_features = 15,\n",
    "                                bootstrap = True, random_state = 1252, \n",
    "                                max_samples = X_train.shape[0])\n",
    "forest1.fit(X_train_normalized, y_train)\n",
    "\n",
    "# Train prediction\n",
    "y1_pred = forest1.predict(X_train_normalized)\n",
    "f1_score_train = f1_score(y_train, y1_pred, average='macro')\n",
    "\n",
    "# Test prediction\n",
    "y1_pred = forest1.predict(X_test_normalized)\n",
    "f1_score_test = f1_score(y_test, y1_pred, average='macro')\n",
    "\n",
    "f1_score_train\n",
    "f1_score_test\n",
    "\n",
    "summary_models.append({\"Feature Type Approach\" : \"All\", \"Model\" : \"Random Forest\", \"Train Accuracy\": f1_score_train, \"Test Accuracy\": f1_score_test})"
   ]
  },
  {
   "cell_type": "markdown",
   "id": "8566733b-da74-4dd1-869e-b8f6170c7f05",
   "metadata": {},
   "source": [
    "# 1. Features from Recursive Feature Elimination"
   ]
  },
  {
   "cell_type": "code",
   "execution_count": 87,
   "id": "e025c995-743f-4a34-bd4d-bd0f0de76b6a",
   "metadata": {},
   "outputs": [],
   "source": [
    "from sklearn.datasets import make_classification\n",
    "from sklearn.feature_selection import RFECV\n",
    "from sklearn.model_selection import StratifiedKFold\n",
    "from sklearn.tree import DecisionTreeClassifier\n",
    "\n",
    "rfe_model = DecisionTreeClassifier()\n",
    "\n",
    "# Use cross-validation to determine the optimal number of features to keep\n",
    "rfecv = RFECV(estimator=rfe_model, step=1, cv=StratifiedKFold(5), scoring='accuracy')\n",
    "rfecv.fit(X_train_normalized, y_train)\n",
    "\n",
    "# Print the ranking of features\n",
    "rfe_ind = rfecv.ranking_ - 1\n",
    "\n",
    "feat_rank = dict(zip(selected_vars[0:63], rfecv.ranking_))\n",
    "\n",
    "# Sort the dictionary by ranking values\n",
    "top_feat = sorted(feat_rank.items(), key=lambda x: x[1])\n",
    "\n",
    "# Print the top n features and their ranking\n",
    "n_features = []\n",
    "for feat in top_feat:\n",
    "    n_features.append(feat[0])\n",
    "\n",
    "X_rfe = df.loc[:, n_features]\n",
    "y_rfe = df.loc[:, 'Target']\n",
    "X_rfe.loc[:, 'meaneduc'] = X_rfe.loc[:, 'meaneduc'].fillna(0)\n",
    "X_rfe_train_normalized = scaler.fit_transform(X_rfe)\n",
    "# Split to train and test\n",
    "X_train_rfe, X_test_rfe, y_train_rfe, y_test_rfe = train_test_split(X_rfe_train_normalized, y_rfe, test_size=0.2, \n",
    "                                                    random_state=2938)"
   ]
  },
  {
   "cell_type": "markdown",
   "id": "b1a40a81-f8c9-4d1c-b7a1-e72bfd5cb557",
   "metadata": {},
   "source": [
    "### Gradient Boosting Classifier"
   ]
  },
  {
   "cell_type": "code",
   "execution_count": 88,
   "id": "56b7aef6-bd7a-4ef5-b867-078d12db6c91",
   "metadata": {},
   "outputs": [],
   "source": [
    "from sklearn.ensemble import GradientBoostingClassifier\n",
    "gradient_tree = GradientBoostingClassifier(max_depth = 7,\n",
    "                                      n_estimators = 41, \n",
    "                                      learning_rate = .26,\n",
    "                                      min_samples_split = 3, \n",
    "                                      min_samples_leaf = 2,\n",
    "                                      random_state = 8590)\n",
    "\n",
    "gradient_tree.fit(X_train_rfe[:, 0:11], y_train_rfe)\n",
    "# Train prediction\n",
    "y_pred2 = gradient_tree.predict(X_train_rfe[:, 0:11])\n",
    "f1_score_train_bg = f1_score(y_train_rfe, y_pred2, average='macro')\n",
    "\n",
    "# Test prediction\n",
    "y_pred2t = gradient_tree.predict(X_test_rfe[:, 0:11])\n",
    "f1_score_test_bg = f1_score(y_test_rfe, y_pred2t, average='macro')\n",
    "\n",
    "f1_score_train_bg\n",
    "f1_score_test_bg\n",
    "\n",
    "summary_models.append({\"Feature Type Approach\" : \"Recursive Elimination\", \"Model\" : \"Gradient Boost\", \"Train Accuracy\": f1_score_train_bg, \"Test Accuracy\": f1_score_test_bg})"
   ]
  },
  {
   "cell_type": "code",
   "execution_count": 89,
   "id": "5bfc240f-6b7a-4d93-b9d8-3f838f39cee9",
   "metadata": {},
   "outputs": [],
   "source": [
    "forest2 = RandomForestClassifier(n_estimators = 5, criterion = 'gini',\n",
    "                                max_depth = 16, min_samples_split = 3, \n",
    "                                min_samples_leaf = 1, max_features = 11,\n",
    "                                bootstrap = True, random_state = 1252, \n",
    "                                max_samples = X_train_rfe.shape[0])\n",
    "forest2.fit(X_train_rfe[:, 0:12], y_train_rfe)\n",
    "\n",
    "# Train prediction\n",
    "y_pred_rf2 = forest2.predict(X_train_rfe[:, 0:12])\n",
    "f1_score_train_rf = f1_score(y_train_rfe, y_pred_rf2, average='macro')\n",
    "\n",
    "# Test prediction\n",
    "y_pred_rf2 = forest2.predict(X_test_rfe[:, 0:12])\n",
    "f1_score_test_rf = f1_score(y_test_rfe, y_pred_rf2, average='macro')\n",
    "\n",
    "f1_score_train_rf\n",
    "f1_score_test_rf\n",
    "\n",
    "summary_models.append({\"Feature Type Approach\" : \"Recursive Elimination\", \"Model\" : \"Random Forest\", \"Train Accuracy\": f1_score_train_rf, \"Test Accuracy\": f1_score_test_rf})"
   ]
  },
  {
   "cell_type": "code",
   "execution_count": 90,
   "id": "c5f87609-f9c5-4178-85f9-13cb712a4e71",
   "metadata": {},
   "outputs": [],
   "source": [
    "### Logistic Regression\n",
    "logis = LogisticRegression(penalty = 'l2', multi_class = 'auto', max_iter = 1000)\n",
    "logis.fit(X_train_rfe[:, 0:35], y_train_rfe)\n",
    "\n",
    "# Train prediction\n",
    "y_pred_lr = logis.predict(X_train_rfe[:, 0:35])\n",
    "f1_score_train_lr = f1_score(y_train_rfe, y_pred_lr, average='macro')\n",
    "\n",
    "# Test prediction\n",
    "y_pred_lrt = logis.predict(X_test_rfe[:, 0:35])\n",
    "f1_score_test_lr = f1_score(y_test_rfe, y_pred_lrt, average='macro')\n",
    "\n",
    "f1_score_train_lr\n",
    "f1_score_test_lr\n",
    "\n",
    "summary_models.append({\"Feature Type Approach\" : \"Recursive Elimination\", \"Model\" : \"Logistic Regression\", \"Train Accuracy\": f1_score_train_lr, \"Test Accuracy\": f1_score_test_lr})"
   ]
  },
  {
   "cell_type": "code",
   "execution_count": 91,
   "id": "e162ab0c-a0d4-4d6d-a041-6b104b0649eb",
   "metadata": {},
   "outputs": [],
   "source": [
    "\n",
    "# Train the KNN classifier\n",
    "k = 17\n",
    "clf1 = KNeighborsClassifier(n_neighbors=k, metric='manhattan')\n",
    "clf1.fit(X_train_rfe[:, 0:49], y_train_rfe)\n",
    "\n",
    "# Test the KNN classifier\n",
    "y_pred = clf1.predict(X_test_rfe[:, 0:49])\n",
    "\n",
    "# Evaluate the performance\n",
    "train_acc2 = clf1.score(X_train_rfe[:, 0:49], y_train_rfe)\n",
    "test_acc2 = f1_score(y_test_rfe, y_pred, average='macro')\n",
    "train_acc2\n",
    "test_acc2\n",
    "\n",
    "summary_models.append({\"Feature Type Approach\" : \"Recursive Elimination\", \"Model\" : \"KNN\", \"Train Accuracy\": train_acc2, \"Test Accuracy\": test_acc2})"
   ]
  },
  {
   "cell_type": "code",
   "execution_count": 92,
   "id": "fdef571f-aeac-4912-908e-88ac5583ba83",
   "metadata": {},
   "outputs": [
    {
     "data": {
      "image/png": "[encoded data removed]",
      "text/plain": [
       "<Figure size 1500x700 with 1 Axes>"
      ]
     },
     "metadata": {},
     "output_type": "display_data"
    },
    {
     "name": "stderr",
     "output_type": "stream",
     "text": [
      "No artists with labels found to put in legend.  Note that artists whose label start with an underscore are ignored when legend() is called with no argument.\n"
     ]
    },
    {
     "data": {
      "text/plain": [
       "<matplotlib.legend.Legend at 0x7fa83093d610>"
      ]
     },
     "execution_count": 92,
     "metadata": {},
     "output_type": "execute_result"
    }
   ],
   "source": [
    "list_scores_train = []\n",
    "list_scores_test = []\n",
    "\n",
    "h = 49\n",
    "for n in range(1, 63):\n",
    "        clf1 = KNeighborsClassifier(n_neighbors=n, metric='manhattan')\n",
    "        clf1.fit(X_train_rfe[:, 0:h], y_train_rfe)\n",
    "\n",
    "        y_pred = clf1.predict(X_test_rfe[:, 0:h])\n",
    "        train_acc2 = clf1.score(X_train_rfe[:, 0:h], y_train_rfe)\n",
    "        test_acc2 = f1_score(y_test_rfe, y_pred, average='macro')\n",
    "        list_scores_train.append(train_acc2)\n",
    "        list_scores_test.append(test_acc2)\n",
    "    \n",
    "fig, ax = plt.subplots(figsize=(15, 7))\n",
    "plt.plot(list_scores_train)\n",
    "plt.plot(list_scores_test)\n",
    "plt.xlabel('Number of Neighbors, Number of Parameters')\n",
    "plt.ylabel('F1 Macro Score')\n",
    "ax.spines['top'].set_visible(False)\n",
    "ax.spines['right'].set_visible(False)\n",
    "ax.grid(axis='y')\n",
    "plt.show()\n",
    "ax.legend()"
   ]
  },
  {
   "cell_type": "code",
   "execution_count": null,
   "id": "76d2035f-701b-4521-898f-4b8d032facdf",
   "metadata": {},
   "outputs": [],
   "source": []
  },
  {
   "cell_type": "markdown",
   "id": "bfdd7480-48cc-40db-97a4-811bdfda3c38",
   "metadata": {},
   "source": [
    "# 2. Lasso Feature Selection"
   ]
  },
  {
   "cell_type": "code",
   "execution_count": 93,
   "id": "5575f26e-7eb1-48d7-aeb6-7571f87b44dd",
   "metadata": {},
   "outputs": [
    {
     "data": {
      "text/plain": [
       "['edjefe',\n",
       " 'edjefa',\n",
       " 'meaneduc',\n",
       " 'wall_quality',\n",
       " 'floor_quality',\n",
       " 'electronics_idx']"
      ]
     },
     "execution_count": 93,
     "metadata": {},
     "output_type": "execute_result"
    }
   ],
   "source": [
    "from sklearn.linear_model import Lasso\n",
    "from sklearn.datasets import load_boston\n",
    "from sklearn.preprocessing import StandardScaler\n",
    "\n",
    "df_lf = pd.get_dummies(df, columns=df.select_dtypes(include='object').columns)\n",
    "\n",
    "X_lf = df_lf.loc[:, selected_vars[0:63]]\n",
    "y_lf = df_lf.loc[:, 'Target']\n",
    "\n",
    "# Split to train and test\n",
    "X_train_lf, X_test_lf, y_train_lf, y_test_lf = train_test_split(X_lf, y_lf, test_size=0.2, \n",
    "                                                    random_state=2938)\n",
    "\n",
    "# Normalize the features in the training and testing datasets\n",
    "scaler = MinMaxScaler()\n",
    "X_train_normalized = scaler.fit_transform(X_train_lf)\n",
    "X_test_normalized = scaler.transform(X_test_lf)\n",
    "\n",
    "# Create a Lasso object\n",
    "lasso = Lasso(alpha=0.1)\n",
    "\n",
    "# Fit the Lasso model to the data\n",
    "lasso.fit(X_train_lf, y_train_lf)\n",
    "\n",
    "lasso_features = []\n",
    "for feature, coef in zip(X_train_lf.columns, lasso.coef_):\n",
    "    if coef > 0:\n",
    "        lasso_features.append(feature)\n",
    "    \n",
    "X_lf_fin = df.loc[:, lasso_features]\n",
    "y_lf_fin = df.loc[:, 'Target']\n",
    "X_lf_fin.loc[:, 'meaneduc'] = X_lf_fin.loc[:, 'meaneduc'].fillna(0)\n",
    "X_lf_train_normalized = scaler.fit_transform(X_lf_fin)\n",
    "# Split to train and test\n",
    "X_train_lf, X_test_lf, y_train_lf, y_test_lf = train_test_split(X_lf_train_normalized, y_lf_fin, test_size=0.2, \n",
    "                                                    random_state=2938)\n",
    "lasso_features[0:6]"
   ]
  },
  {
   "cell_type": "markdown",
   "id": "42aabfd4-44cc-4710-ae05-45d31cf1f6f8",
   "metadata": {},
   "source": [
    "### GradientBoostingClassifier"
   ]
  },
  {
   "cell_type": "code",
   "execution_count": 94,
   "id": "af77e35e-8b5e-4a20-b116-ebc766a1f415",
   "metadata": {},
   "outputs": [],
   "source": [
    "from sklearn.ensemble import GradientBoostingClassifier\n",
    "gradient_tree_lf = GradientBoostingClassifier(max_depth = 10,\n",
    "                                      n_estimators = 63, \n",
    "                                      learning_rate = .20,\n",
    "                                      min_samples_split = 3, \n",
    "                                      min_samples_leaf = 2,\n",
    "                                      random_state = 8590)\n",
    "\n",
    "gradient_tree_lf.fit(X_train_lf[:, 0:6], y_train_lf)\n",
    "# Train prediction\n",
    "y_pred_lf= gradient_tree_lf.predict(X_train_lf[:, 0:6])\n",
    "f1_scoretrain_lf_gb = f1_score(y_train_lf, y_pred_lf, average='macro')\n",
    "f1_scoretrain_lf_gb\n",
    "\n",
    "# Test prediction\n",
    "y_pred_lft = gradient_tree_lf.predict(X_test_lf[:, 0:6])\n",
    "f1_scoretest_lf_gb = f1_score(y_test_lf, y_pred_lft, average='macro')\n",
    "f1_scoretest_lf_gb\n",
    "\n",
    "summary_models.append({\"Feature Type Approach\" : \"Lasso\", \"Model\" : \"Gradient Boost\", \"Train Accuracy\": f1_scoretrain_lf_gb, \"Test Accuracy\": f1_scoretest_lf_gb})"
   ]
  },
  {
   "cell_type": "markdown",
   "id": "c28f2bd2-cc70-4a19-9fb1-e76e12102e1c",
   "metadata": {},
   "source": [
    "### RandomForestClassifier"
   ]
  },
  {
   "cell_type": "code",
   "execution_count": 95,
   "id": "cee8ea85-8503-4ab4-94b8-1414141e01b6",
   "metadata": {},
   "outputs": [],
   "source": [
    "forest_lf = RandomForestClassifier(n_estimators = 7, criterion = 'gini',\n",
    "                                max_depth = 20, min_samples_split = 3, \n",
    "                                min_samples_leaf = 1, max_features = 3,\n",
    "                                bootstrap = True, random_state = 1252, \n",
    "                                max_samples = X_train_lf.shape[0])\n",
    "forest_lf.fit(X_train_lf[:, 0:5], y_train_lf)\n",
    "\n",
    "# Train prediction\n",
    "y_pred_lf2 = forest_lf.predict(X_train_lf[:, 0:5])\n",
    "f1_scoretrain_lf_rf = f1_score(y_train_lf, y_pred_lf2, average='macro')\n",
    "f1_scoretrain_lf_rf\n",
    "# Test prediction\n",
    "y_pred_lf2t = forest_lf.predict(X_test_lf[:, 0:5])\n",
    "f1_scoretest_lf_rf = f1_score(y_test_lf, y_pred_lf2t, average='macro')\n",
    "f1_scoretest_lf_rf\n",
    "summary_models.append({\"Feature Type Approach\" : \"Lasso\", \"Model\" : \"Random Forest\", \"Train Accuracy\": f1_scoretrain_lf_rf, \"Test Accuracy\": f1_scoretest_lf_rf})"
   ]
  },
  {
   "cell_type": "markdown",
   "id": "d55b3ed9-f63d-4107-b291-00d0045465c9",
   "metadata": {},
   "source": [
    "### Logistic Regression"
   ]
  },
  {
   "cell_type": "code",
   "execution_count": 96,
   "id": "402e1a5a-5c78-43e3-b921-3fc40ed12e8e",
   "metadata": {},
   "outputs": [],
   "source": [
    "logis = LogisticRegression(penalty = 'l2', multi_class = 'auto', max_iter = 500)\n",
    "logis.fit(X_train_lf[:, 0:10], y_train_lf)\n",
    "\n",
    "# Train prediction\n",
    "y_pred_lf3 = logis.predict(X_train_lf[:, 0:10])\n",
    "f1_scoretrain_lf_lr = f1_score(y_train_lf, y_pred_lf3, average='macro')\n",
    "f1_scoretrain_lf_lr\n",
    "# Test prediction\n",
    "y_pred_lf3t = logis.predict(X_test_lf[:, 0:10])\n",
    "f1_scoretest_lf_lr= f1_score(y_test_lf, y_pred_lf3t, average='macro')\n",
    "f1_scoretest_lf_lr\n",
    "summary_models.append({\"Feature Type Approach\" : \"Lasso\", \"Model\" : \"Logistic Regression\", \"Train Accuracy\": f1_scoretrain_lf_lr, \"Test Accuracy\": f1_scoretest_lf_lr})"
   ]
  },
  {
   "cell_type": "markdown",
   "id": "06af3ab2-84ba-4783-bbcb-b33f560d2236",
   "metadata": {},
   "source": [
    "### KNN"
   ]
  },
  {
   "cell_type": "code",
   "execution_count": 97,
   "id": "718222ac-f964-4f4d-9da3-75ace840a710",
   "metadata": {},
   "outputs": [],
   "source": [
    "k = 19\n",
    "clf3 = KNeighborsClassifier(n_neighbors=k, metric='manhattan')\n",
    "clf3.fit(X_train_lf[:, 0:6], y_train_lf)\n",
    "\n",
    "# Test the KNN classifier\n",
    "y_pred_lf4 = clf3.predict(X_test_lf[:, 0:6])\n",
    "\n",
    "# Evaluate the performance of the model\n",
    "train_acc3 = clf3.score(X_train_lf[:, 0:6], y_train_lf)\n",
    "test_acc3 = f1_score(y_test_lf, y_pred_lf4, average='macro')\n",
    "train_acc3\n",
    "test_acc3\n",
    "summary_models.append({\"Feature Type Approach\" : \"Lasso\", \"Model\" : \"KNN\", \"Train Accuracy\": train_acc3, \"Test Accuracy\": test_acc3})"
   ]
  },
  {
   "cell_type": "code",
   "execution_count": 99,
   "id": "1a97f8d0-59dc-4d0e-b41a-eac083ae84f4",
   "metadata": {},
   "outputs": [
    {
     "data": {
      "text/html": [
       "<div>\n",
       "<style scoped>\n",
       "    .dataframe tbody tr th:only-of-type {\n",
       "        vertical-align: middle;\n",
       "    }\n",
       "\n",
       "    .dataframe tbody tr th {\n",
       "        vertical-align: top;\n",
       "    }\n",
       "\n",
       "    .dataframe thead th {\n",
       "        text-align: right;\n",
       "    }\n",
       "</style>\n",
       "<table border=\"1\" class=\"dataframe\">\n",
       "  <thead>\n",
       "    <tr style=\"text-align: right;\">\n",
       "      <th></th>\n",
       "      <th>Feature Type Approach</th>\n",
       "      <th>Model</th>\n",
       "      <th>Train Accuracy</th>\n",
       "      <th>Test Accuracy</th>\n",
       "    </tr>\n",
       "  </thead>\n",
       "  <tbody>\n",
       "    <tr>\n",
       "      <th>0</th>\n",
       "      <td>All</td>\n",
       "      <td>KNN</td>\n",
       "      <td>0.802724</td>\n",
       "      <td>0.315664</td>\n",
       "    </tr>\n",
       "    <tr>\n",
       "      <th>1</th>\n",
       "      <td>All</td>\n",
       "      <td>Random Forest</td>\n",
       "      <td>0.485140</td>\n",
       "      <td>0.396703</td>\n",
       "    </tr>\n",
       "    <tr>\n",
       "      <th>2</th>\n",
       "      <td>Recursive Elimination</td>\n",
       "      <td>Gradient Boost</td>\n",
       "      <td>0.908615</td>\n",
       "      <td>0.345798</td>\n",
       "    </tr>\n",
       "    <tr>\n",
       "      <th>3</th>\n",
       "      <td>Recursive Elimination</td>\n",
       "      <td>Random Forest</td>\n",
       "      <td>0.822045</td>\n",
       "      <td>0.326434</td>\n",
       "    </tr>\n",
       "    <tr>\n",
       "      <th>4</th>\n",
       "      <td>Recursive Elimination</td>\n",
       "      <td>Logistic Regression</td>\n",
       "      <td>0.363737</td>\n",
       "      <td>0.322520</td>\n",
       "    </tr>\n",
       "    <tr>\n",
       "      <th>5</th>\n",
       "      <td>Recursive Elimination</td>\n",
       "      <td>KNN</td>\n",
       "      <td>0.672414</td>\n",
       "      <td>0.286015</td>\n",
       "    </tr>\n",
       "    <tr>\n",
       "      <th>6</th>\n",
       "      <td>Lasso</td>\n",
       "      <td>Gradient Boost</td>\n",
       "      <td>0.800354</td>\n",
       "      <td>0.299238</td>\n",
       "    </tr>\n",
       "    <tr>\n",
       "      <th>7</th>\n",
       "      <td>Lasso</td>\n",
       "      <td>Random Forest</td>\n",
       "      <td>0.659176</td>\n",
       "      <td>0.285180</td>\n",
       "    </tr>\n",
       "    <tr>\n",
       "      <th>8</th>\n",
       "      <td>Lasso</td>\n",
       "      <td>Logistic Regression</td>\n",
       "      <td>0.261427</td>\n",
       "      <td>0.269358</td>\n",
       "    </tr>\n",
       "    <tr>\n",
       "      <th>9</th>\n",
       "      <td>Lasso</td>\n",
       "      <td>KNN</td>\n",
       "      <td>0.668629</td>\n",
       "      <td>0.305467</td>\n",
       "    </tr>\n",
       "  </tbody>\n",
       "</table>\n",
       "</div>"
      ],
      "text/plain": [
       "   Feature Type Approach                Model  Train Accuracy  Test Accuracy\n",
       "0                    All                  KNN        0.802724       0.315664\n",
       "1                    All        Random Forest        0.485140       0.396703\n",
       "2  Recursive Elimination       Gradient Boost        0.908615       0.345798\n",
       "3  Recursive Elimination        Random Forest        0.822045       0.326434\n",
       "4  Recursive Elimination  Logistic Regression        0.363737       0.322520\n",
       "5  Recursive Elimination                  KNN        0.672414       0.286015\n",
       "6                  Lasso       Gradient Boost        0.800354       0.299238\n",
       "7                  Lasso        Random Forest        0.659176       0.285180\n",
       "8                  Lasso  Logistic Regression        0.261427       0.269358\n",
       "9                  Lasso                  KNN        0.668629       0.305467"
      ]
     },
     "execution_count": 99,
     "metadata": {},
     "output_type": "execute_result"
    }
   ],
   "source": [
    "summary = pd.DataFrame.from_records(summary_models)\n",
    "summary"
   ]
  },
  {
   "cell_type": "code",
   "execution_count": null,
   "id": "3be7211a-075f-4161-8c91-feacc9a019db",
   "metadata": {},
   "outputs": [],
   "source": []
  }
 ],
 "metadata": {
  "kernelspec": {
   "display_name": "Python 3 (ipykernel)",
   "language": "python",
   "name": "python3"
  },
  "language_info": {
   "codemirror_mode": {
    "name": "ipython",
    "version": 3
   },
   "file_extension": ".py",
   "mimetype": "text/x-python",
   "name": "python",
   "nbconvert_exporter": "python",
   "pygments_lexer": "ipython3",
   "version": "3.9.13"
  }
 },
 "nbformat": 4,
 "nbformat_minor": 5
}
